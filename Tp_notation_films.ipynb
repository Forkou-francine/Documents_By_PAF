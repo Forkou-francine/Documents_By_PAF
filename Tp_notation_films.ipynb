{
  "nbformat": 4,
  "nbformat_minor": 0,
  "metadata": {
    "colab": {
      "provenance": [],
      "mount_file_id": "1iuSc502t2VZpj82JPqdxvFD1oDhprxSh",
      "authorship_tag": "ABX9TyOByfyf3ASCf0/JtBtCJf9l",
      "include_colab_link": true
    },
    "kernelspec": {
      "name": "python3",
      "display_name": "Python 3"
    },
    "language_info": {
      "name": "python"
    }
  },
  "cells": [
    {
      "cell_type": "markdown",
      "metadata": {
        "id": "view-in-github",
        "colab_type": "text"
      },
      "source": [
        "<a href=\"https://colab.research.google.com/github/Forkou-francine/Documents_By_PAF/blob/main/Tp_notation_films.ipynb\" target=\"_parent\"><img src=\"https://colab.research.google.com/assets/colab-badge.svg\" alt=\"Open In Colab\"/></a>"
      ]
    },
    {
      "cell_type": "markdown",
      "source": [
        "# **TP: PySpark pour analyse de données de films.**\n",
        "\n",
        "**Objectif**: Utiliser PySpark pour manipuler un jeu de données sur les films, effectuer des transformations simples et réaliser des analyses"
      ],
      "metadata": {
        "id": "bNnrz-UGJgu-"
      }
    },
    {
      "cell_type": "markdown",
      "source": [
        "Travail réalisé par:\n",
        "\n",
        "1. Ange-Francine PENE FORKOU\n",
        "2. Stanislas Raphael MACOS\n",
        "\n"
      ],
      "metadata": {
        "id": "llyZno_OKAd4"
      }
    },
    {
      "cell_type": "markdown",
      "source": [
        "###**Étape 1: Prise en main - Préparation des données**\n",
        "1. Charger le fichier CSV contenant les données des films dans un DataFrame PySpark :"
      ],
      "metadata": {
        "id": "Mukq4ApwMlMH"
      }
    },
    {
      "cell_type": "code",
      "execution_count": 11,
      "metadata": {
        "id": "eTSUa38p-nZc"
      },
      "outputs": [],
      "source": [
        "#Import des librairies\n",
        "from pyspark.sql import SparkSession\n",
        "from pyspark.sql.functions import col, to_date, explode, split, avg\n",
        "\n",
        "#Instanciation d'une session spark\n",
        "spark = SparkSession.builder.appName('RottenTomatoesMovieAnalysis').getOrCreate()"
      ]
    },
    {
      "cell_type": "code",
      "source": [
        "from google.colab import drive\n",
        "drive.mount('/content/drive')"
      ],
      "metadata": {
        "id": "7XUbEoyZNf5V"
      },
      "execution_count": null,
      "outputs": []
    },
    {
      "cell_type": "code",
      "source": [
        "# Chargement du fichier CSV\n",
        "file_path = \"Rotten_Tomatoes_Movies.csv\"\n",
        "\n",
        "#Création du dataFrame qui contiendra les données des films\n",
        "df_movies = spark.read.csv(file_path, header=True, inferSchema=True)\n",
        "\n",
        "# Afficher un aperçu des données\n",
        "df_movies.show(5)"
      ],
      "metadata": {
        "colab": {
          "base_uri": "https://localhost:8080/"
        },
        "collapsed": true,
        "id": "K4l7XuCgLLEb",
        "outputId": "1375d2ba-9536-4a0f-c2f3-72a7d998018a"
      },
      "execution_count": 12,
      "outputs": [
        {
          "output_type": "stream",
          "name": "stdout",
          "text": [
            "+--------------------+--------------------+--------------------+--------------------+--------------------+--------------------+--------------------+--------------------+--------------------+--------------------+--------------------+--------------------+--------------------+--------------------+--------------------+---------------+--------------------+\n",
            "|         movie_title|          movie_info|   critics_consensus|              rating|               genre|           directors|             writers|                cast|    in_theaters_date|   on_streaming_date|  runtime_in_minutes|         studio_name|  tomatometer_status|  tomatometer_rating|   tomatometer_count|audience_rating|      audience_count|\n",
            "+--------------------+--------------------+--------------------+--------------------+--------------------+--------------------+--------------------+--------------------+--------------------+--------------------+--------------------+--------------------+--------------------+--------------------+--------------------+---------------+--------------------+\n",
            "|Percy Jackson & t...|A teenager discov...|Though it may see...|                  PG|Action & Adventur...|      Chris Columbus|        Craig Titley|Logan Lerman, Bra...|          2010-02-12|          2010-06-29|                  83|    20th Century Fox|              Rotten|                  49|                 144|             53|              254287|\n",
            "|         Please Give|Kate has a lot on...|Nicole Holofcener...|                   R|              Comedy|   Nicole Holofcener|   Nicole Holofcener|Catherine Keener,...|          2010-04-30|          2010-10-19|                  90|Sony Pictures Cla...|     Certified Fresh|                  86|                 140|             64|               11567|\n",
            "|                  10|\"Blake Edwards' 1...|    upon its release| 10 was one of th...|               Rovi\"|                NULL|                   R|     Comedy, Romance|       Blake Edwards|       Blake Edwards|Dudley Moore, Bo ...|          1979-10-05|          1997-08-27|                 118|         Waner Bros.|          Fresh|                  68|\n",
            "|12 Angry Men (Twe...|\"A Puerto Rican y...|\"\" hopes that his...|  an advertising man| doesn't understa...| #2 (John Fiedler...| anxious not to m...| \"\"go with the fl...| Fonda chips away...| insisting that h...| Twelve Angry Men...| who wrote the 19...| here making his ...| since it cost al...| Twelve Angry Men...|          Rovi\"|Sidney Lumet's fe...|\n",
            "|20,000 Leagues Un...|This 1954 Disney ...|One of Disney's f...|                   G|Action & Adventur...|   Richard Fleischer|         Earl Felton|James Mason, Kirk...|          1954-01-01|          2003-05-20|                 127|              Disney|               Fresh|                  89|                  27|             74|               68860|\n",
            "+--------------------+--------------------+--------------------+--------------------+--------------------+--------------------+--------------------+--------------------+--------------------+--------------------+--------------------+--------------------+--------------------+--------------------+--------------------+---------------+--------------------+\n",
            "only showing top 5 rows\n",
            "\n"
          ]
        }
      ]
    },
    {
      "cell_type": "markdown",
      "source": [
        "2.   Nettoyer les données en supprimant les lignes vides ou invalides :\n",
        "\n",
        "\n",
        "*   Supprimer les lignes avec des valeurs nulles ou invalides"
      ],
      "metadata": {
        "id": "5GPq7p-KN7yC"
      }
    },
    {
      "cell_type": "code",
      "source": [
        "# Liste des colonnes importantes à conserver pour l'analyse\n",
        "\"\"\"\n",
        "  Les colonnes sont sélectionnées car elles contiennent des informations\n",
        "  critiques pour l'analyse comme les dates, les notes, et les noms des studios/réalisateurs.\n",
        "\"\"\"\n",
        "list_columns = [\"tomatometer_rating\", \"critics_consensus\", \"in_theaters_date\", \"on_streaming_date\", \"studio_name\", \"directors\"]\n",
        "\n",
        "# Suppression des lignes contenant des valeurs nulles dans les colonnes importantes\n",
        "df_movies_cleaned = df_movies.dropna(subset=list_columns)\n",
        "#df_movies_cleaned.show(10)"
      ],
      "metadata": {
        "colab": {
          "base_uri": "https://localhost:8080/"
        },
        "collapsed": true,
        "id": "tpF696H8OQfO",
        "outputId": "219ccfef-9493-4656-83ab-5872ccad4fad"
      },
      "execution_count": 23,
      "outputs": [
        {
          "output_type": "stream",
          "name": "stdout",
          "text": [
            "+--------------------+--------------------+--------------------+-------------------+--------------------+--------------------+--------------------+--------------------+----------------+-----------------+--------------------+--------------------+--------------------+--------------------+--------------------+---------------+--------------------+\n",
            "|         movie_title|          movie_info|   critics_consensus|             rating|               genre|           directors|             writers|                cast|in_theaters_date|on_streaming_date|  runtime_in_minutes|         studio_name|  tomatometer_status|  tomatometer_rating|   tomatometer_count|audience_rating|      audience_count|\n",
            "+--------------------+--------------------+--------------------+-------------------+--------------------+--------------------+--------------------+--------------------+----------------+-----------------+--------------------+--------------------+--------------------+--------------------+--------------------+---------------+--------------------+\n",
            "|Percy Jackson & t...|A teenager discov...|Though it may see...|                 PG|Action & Adventur...|      Chris Columbus|        Craig Titley|Logan Lerman, Bra...|      2010-02-12|       2010-06-29|                  83|    20th Century Fox|              Rotten|                  49|                 144|             53|              254287|\n",
            "|         Please Give|Kate has a lot on...|Nicole Holofcener...|                  R|              Comedy|   Nicole Holofcener|   Nicole Holofcener|Catherine Keener,...|      2010-04-30|       2010-10-19|                  90|Sony Pictures Cla...|     Certified Fresh|                  86|                 140|             64|               11567|\n",
            "|12 Angry Men (Twe...|\"A Puerto Rican y...|\"\" hopes that his...| an advertising man| doesn't understa...| #2 (John Fiedler...| anxious not to m...| \"\"go with the fl...|            NULL|             NULL| Twelve Angry Men...| who wrote the 19...| here making his ...| since it cost al...| Twelve Angry Men...|          Rovi\"|Sidney Lumet's fe...|\n",
            "|20,000 Leagues Un...|This 1954 Disney ...|One of Disney's f...|                  G|Action & Adventur...|   Richard Fleischer|         Earl Felton|James Mason, Kirk...|      1954-01-01|       2003-05-20|                 127|              Disney|               Fresh|                  89|                  27|             74|               68860|\n",
            "|         10,000 B.C.|A young outcast f...|With attention st...|              PG-13|Action & Adventur...|     Roland Emmerich|Roland Emmerich, ...|Steven Strait, Ca...|      2008-03-07|       2008-06-24|                 109|Warner Bros. Pict...|              Rotten|                   8|                 148|             37|              411087|\n",
            "+--------------------+--------------------+--------------------+-------------------+--------------------+--------------------+--------------------+--------------------+----------------+-----------------+--------------------+--------------------+--------------------+--------------------+--------------------+---------------+--------------------+\n",
            "only showing top 5 rows\n",
            "\n"
          ]
        }
      ]
    },
    {
      "cell_type": "markdown",
      "source": [
        "### **Etape 2: Manipulation et analyse des données**\n",
        "1. Filtrage"
      ],
      "metadata": {
        "id": "lB7_CXHeUPc7"
      }
    },
    {
      "cell_type": "code",
      "source": [
        "# Les films avec une note très basse (tomatometer_rating < 20)\n",
        "df_movies_low_rating = df_movies_cleaned.filter(col(\"tomatometer_rating\") < 20)\n",
        "df_movies_low_rating.show(5)"
      ],
      "metadata": {
        "colab": {
          "base_uri": "https://localhost:8080/"
        },
        "collapsed": true,
        "id": "wjavbe57_xcx",
        "outputId": "5811ed51-cb63-48ca-d69a-35f599135d26"
      },
      "execution_count": 25,
      "outputs": [
        {
          "output_type": "stream",
          "name": "stdout",
          "text": [
            "+--------------------+--------------------+--------------------+------+--------------------+--------------------+--------------------+--------------------+----------------+-----------------+------------------+--------------------+------------------+------------------+-----------------+---------------+--------------+\n",
            "|         movie_title|          movie_info|   critics_consensus|rating|               genre|           directors|             writers|                cast|in_theaters_date|on_streaming_date|runtime_in_minutes|         studio_name|tomatometer_status|tomatometer_rating|tomatometer_count|audience_rating|audience_count|\n",
            "+--------------------+--------------------+--------------------+------+--------------------+--------------------+--------------------+--------------------+----------------+-----------------+------------------+--------------------+------------------+------------------+-----------------+---------------+--------------+\n",
            "|         10,000 B.C.|A young outcast f...|With attention st...| PG-13|Action & Adventur...|     Roland Emmerich|Roland Emmerich, ...|Steven Strait, Ca...|      2008-03-07|       2008-06-24|               109|Warner Bros. Pict...|            Rotten|                 8|              148|             37|        411087|\n",
            "|The Bridge of San...|Thornton Wilder's...|Despite an all-st...|    PG|Art House & Inter...|      Mary McGuckian|      Mary McGuckian|Gabriel Byrne, F....|      2005-06-10|       2005-10-11|               120|  Fine Line Features|            Rotten|                 4|               24|             35|          1931|\n",
            "|               Whore|The world of pros...|                NULL|     R|Art House & Inter...|         María Lidón|Adela Ibañez, Isa...|Daryl Hannah, Den...|      2004-04-16|       2005-02-08|                87|Dolores Pictures LLC|            Rotten|                 0|                6|             63|           914|\n",
            "|         Ultraviolet|In the late 21st ...|An incomprehensib...| PG-13|Action & Adventur...|         Kurt Wimmer|         Kurt Wimmer|Milla Jovovich, C...|      2006-03-03|       2006-06-27|                88|       Sony Pictures|            Rotten|                 8|               83|             30|        279966|\n",
            "|               Smile|Two girls born at...|                NULL| PG-13|Art House & Inter...|Jeff Kramer, Jeff...|Jeff Kramer, Jeff...|Mika Boorem, Wang...|      2005-04-08|       2005-09-06|               107|Dark Forest Relea...|            Rotten|                15|               13|             66|          2059|\n",
            "+--------------------+--------------------+--------------------+------+--------------------+--------------------+--------------------+--------------------+----------------+-----------------+------------------+--------------------+------------------+------------------+-----------------+---------------+--------------+\n",
            "only showing top 5 rows\n",
            "\n"
          ]
        }
      ]
    },
    {
      "cell_type": "code",
      "source": [
        "# Les films sortis (en cinema) après l'année 2000\n",
        "df_movies_after_2000 = df_movies_cleaned.filter(col(\"in_theaters_date\") > \"2000-01-01\")\n",
        "df_movies_after_2000.show(5)"
      ],
      "metadata": {
        "colab": {
          "base_uri": "https://localhost:8080/"
        },
        "collapsed": true,
        "id": "LtXWG9arCTVA",
        "outputId": "9082124b-b3b1-449e-96ef-c98f39ea25b8"
      },
      "execution_count": 26,
      "outputs": [
        {
          "output_type": "stream",
          "name": "stdout",
          "text": [
            "+--------------------+--------------------+--------------------+------+--------------------+--------------------+--------------------+--------------------+----------------+-----------------+------------------+--------------------+------------------+------------------+-----------------+---------------+--------------+\n",
            "|         movie_title|          movie_info|   critics_consensus|rating|               genre|           directors|             writers|                cast|in_theaters_date|on_streaming_date|runtime_in_minutes|         studio_name|tomatometer_status|tomatometer_rating|tomatometer_count|audience_rating|audience_count|\n",
            "+--------------------+--------------------+--------------------+------+--------------------+--------------------+--------------------+--------------------+----------------+-----------------+------------------+--------------------+------------------+------------------+-----------------+---------------+--------------+\n",
            "|Percy Jackson & t...|A teenager discov...|Though it may see...|    PG|Action & Adventur...|      Chris Columbus|        Craig Titley|Logan Lerman, Bra...|      2010-02-12|       2010-06-29|                83|    20th Century Fox|            Rotten|                49|              144|             53|        254287|\n",
            "|         Please Give|Kate has a lot on...|Nicole Holofcener...|     R|              Comedy|   Nicole Holofcener|   Nicole Holofcener|Catherine Keener,...|      2010-04-30|       2010-10-19|                90|Sony Pictures Cla...|   Certified Fresh|                86|              140|             64|         11567|\n",
            "|         10,000 B.C.|A young outcast f...|With attention st...| PG-13|Action & Adventur...|     Roland Emmerich|Roland Emmerich, ...|Steven Strait, Ca...|      2008-03-07|       2008-06-24|               109|Warner Bros. Pict...|            Rotten|                 8|              148|             37|        411087|\n",
            "|Charly (A Heartbe...|Sam Roberts think...|                NULL|    PG|Comedy, Drama, Ro...|Adam Thomas Anderegg|Jack Weyland, Jan...|Heather Beers, Ga...|      2002-09-27|       2003-08-01|               103| Excel Entertainment|            Rotten|                20|               10|             87|          4819|\n",
            "|          Dark Water|Following up on h...|                NULL| PG-13|Art House & Inter...|        Hideo Nakata|Hideo Hakata, Tak...|Hitomi Kuroki, Ri...|      2002-01-19|       2005-06-21|               100|    Toho Company Ltd|             Fresh|                80|               15|             66|         21459|\n",
            "+--------------------+--------------------+--------------------+------+--------------------+--------------------+--------------------+--------------------+----------------+-----------------+------------------+--------------------+------------------+------------------+-----------------+---------------+--------------+\n",
            "only showing top 5 rows\n",
            "\n"
          ]
        }
      ]
    },
    {
      "cell_type": "markdown",
      "source": [
        "2. Moyennes"
      ],
      "metadata": {
        "id": "tQszJPFrWadK"
      }
    },
    {
      "cell_type": "code",
      "source": [
        "# La note moyenne des films par studio\n",
        "df_avg_rating_studio = df_movies_cleaned.groupBy(\"studio_name\").agg(avg(\"tomatometer_rating\").alias(\"avg_rating\"))\n",
        "df_avg_rating_studio.show(5)"
      ],
      "metadata": {
        "colab": {
          "base_uri": "https://localhost:8080/"
        },
        "id": "Mp8ndSh_CWZR",
        "outputId": "1bd02998-1b47-45c1-f199-407e428cb9f7"
      },
      "execution_count": 24,
      "outputs": [
        {
          "output_type": "stream",
          "name": "stdout",
          "text": [
            "+--------------------+------------------+\n",
            "|         studio_name|        avg_rating|\n",
            "+--------------------+------------------+\n",
            "|Virgil Films & En...|              13.0|\n",
            "|    Relativity Media|33.310344827586206|\n",
            "|  New World Pictures|              50.1|\n",
            "| and seeks out th...|              NULL|\n",
            "|       Nicholas Hope|              NULL|\n",
            "+--------------------+------------------+\n",
            "only showing top 5 rows\n",
            "\n"
          ]
        }
      ]
    },
    {
      "cell_type": "code",
      "source": [
        "# La moyenne des films par directeurs\n",
        "df_avg_rating_director = df_movies_cleaned.groupBy(\"directors\").agg(avg(\"tomatometer_rating\").alias(\"avg_rating\"))\n",
        "df_avg_rating_director.show(5)"
      ],
      "metadata": {
        "colab": {
          "base_uri": "https://localhost:8080/"
        },
        "id": "bSklv3qPXihj",
        "outputId": "549ddded-9960-4cb9-b831-649295b734d5"
      },
      "execution_count": 27,
      "outputs": [
        {
          "output_type": "stream",
          "name": "stdout",
          "text": [
            "+--------------------+----------+\n",
            "|           directors|avg_rating|\n",
            "+--------------------+----------+\n",
            "|Comedy, Science F...|      NULL|\n",
            "|         John Milius|      59.5|\n",
            "|    Laurence Olivier|      79.0|\n",
            "|      Jean Yarbrough|      30.0|\n",
            "|        Jim Jarmusch|      77.0|\n",
            "+--------------------+----------+\n",
            "only showing top 5 rows\n",
            "\n"
          ]
        }
      ]
    },
    {
      "cell_type": "markdown",
      "source": [
        "### **Etape 3 : Utilisation de fonctions avancées**\n",
        "\n",
        "\n",
        "\n",
        "1.   Diviser les genres multiples d'une colone en genres individuels\n",
        "\n"
      ],
      "metadata": {
        "id": "QMhjrTyzZzf9"
      }
    },
    {
      "cell_type": "code",
      "source": [
        "# On divise les genres selon le séparateur (,)\n",
        "df_individual_genres = df_movies_cleaned.withColumn(\"genre\", explode(split(col(\"genre\"), \", \")))\n",
        "df_individual_genres.show(5)"
      ],
      "metadata": {
        "colab": {
          "base_uri": "https://localhost:8080/"
        },
        "id": "dcIxkMaOZzDz",
        "outputId": "590afb5c-2864-439e-da5f-48eeb8031081"
      },
      "execution_count": 29,
      "outputs": [
        {
          "output_type": "stream",
          "name": "stdout",
          "text": [
            "+--------------------+--------------------+--------------------+------+--------------------+-----------------+-----------------+--------------------+----------------+-----------------+------------------+--------------------+------------------+------------------+-----------------+---------------+--------------+\n",
            "|         movie_title|          movie_info|   critics_consensus|rating|               genre|        directors|          writers|                cast|in_theaters_date|on_streaming_date|runtime_in_minutes|         studio_name|tomatometer_status|tomatometer_rating|tomatometer_count|audience_rating|audience_count|\n",
            "+--------------------+--------------------+--------------------+------+--------------------+-----------------+-----------------+--------------------+----------------+-----------------+------------------+--------------------+------------------+------------------+-----------------+---------------+--------------+\n",
            "|Percy Jackson & t...|A teenager discov...|Though it may see...|    PG|  Action & Adventure|   Chris Columbus|     Craig Titley|Logan Lerman, Bra...|      2010-02-12|       2010-06-29|                83|    20th Century Fox|            Rotten|                49|              144|             53|        254287|\n",
            "|Percy Jackson & t...|A teenager discov...|Though it may see...|    PG|              Comedy|   Chris Columbus|     Craig Titley|Logan Lerman, Bra...|      2010-02-12|       2010-06-29|                83|    20th Century Fox|            Rotten|                49|              144|             53|        254287|\n",
            "|Percy Jackson & t...|A teenager discov...|Though it may see...|    PG|               Drama|   Chris Columbus|     Craig Titley|Logan Lerman, Bra...|      2010-02-12|       2010-06-29|                83|    20th Century Fox|            Rotten|                49|              144|             53|        254287|\n",
            "|Percy Jackson & t...|A teenager discov...|Though it may see...|    PG|Science Fiction &...|   Chris Columbus|     Craig Titley|Logan Lerman, Bra...|      2010-02-12|       2010-06-29|                83|    20th Century Fox|            Rotten|                49|              144|             53|        254287|\n",
            "|         Please Give|Kate has a lot on...|Nicole Holofcener...|     R|              Comedy|Nicole Holofcener|Nicole Holofcener|Catherine Keener,...|      2010-04-30|       2010-10-19|                90|Sony Pictures Cla...|   Certified Fresh|                86|              140|             64|         11567|\n",
            "+--------------------+--------------------+--------------------+------+--------------------+-----------------+-----------------+--------------------+----------------+-----------------+------------------+--------------------+------------------+------------------+-----------------+---------------+--------------+\n",
            "only showing top 5 rows\n",
            "\n"
          ]
        }
      ]
    },
    {
      "cell_type": "markdown",
      "source": [
        "2. Calculer la durée moyennes des films pour chaque genre"
      ],
      "metadata": {
        "id": "VR1jATBIbsbJ"
      }
    }
  ]
}